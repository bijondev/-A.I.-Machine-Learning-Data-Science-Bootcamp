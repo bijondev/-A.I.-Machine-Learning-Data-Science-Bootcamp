{
  "nbformat": 4,
  "nbformat_minor": 0,
  "metadata": {
    "colab": {
      "provenance": [],
      "authorship_tag": "ABX9TyPqO0hsczrb8+tsPsnjgVFJ",
      "include_colab_link": true
    },
    "kernelspec": {
      "name": "python3",
      "display_name": "Python 3"
    },
    "language_info": {
      "name": "python"
    }
  },
  "cells": [
    {
      "cell_type": "markdown",
      "metadata": {
        "id": "view-in-github",
        "colab_type": "text"
      },
      "source": [
        "<a href=\"https://colab.research.google.com/github/bijondev/-A.I.-Machine-Learning-Data-Science-Bootcamp/blob/main/resume_builder.ipynb\" target=\"_parent\"><img src=\"https://colab.research.google.com/assets/colab-badge.svg\" alt=\"Open In Colab\"/></a>"
      ]
    },
    {
      "cell_type": "code",
      "source": [
        "# prompt: install docx\n",
        "\n",
        "!pip install python-docx\n"
      ],
      "metadata": {
        "colab": {
          "base_uri": "https://localhost:8080/"
        },
        "id": "hSGjoKPDJlxH",
        "outputId": "cceae004-89c2-4d49-d5cd-4f92e1186978"
      },
      "execution_count": 3,
      "outputs": [
        {
          "output_type": "stream",
          "name": "stdout",
          "text": [
            "Collecting python-docx\n",
            "  Downloading python_docx-1.1.2-py3-none-any.whl (244 kB)\n",
            "\u001b[?25l     \u001b[90m━━━━━━━━━━━━━━━━━━━━━━━━━━━━━━━━━━━━━━━━\u001b[0m \u001b[32m0.0/244.3 kB\u001b[0m \u001b[31m?\u001b[0m eta \u001b[36m-:--:--\u001b[0m\r\u001b[2K     \u001b[91m━━━━━━━━━━━━━━━━━━\u001b[0m\u001b[90m╺\u001b[0m\u001b[90m━━━━━━━━━━━━━━━━━━━━━\u001b[0m \u001b[32m112.6/244.3 kB\u001b[0m \u001b[31m3.0 MB/s\u001b[0m eta \u001b[36m0:00:01\u001b[0m\r\u001b[2K     \u001b[90m━━━━━━━━━━━━━━━━━━━━━━━━━━━━━━━━━━━━━━━━\u001b[0m \u001b[32m244.3/244.3 kB\u001b[0m \u001b[31m4.8 MB/s\u001b[0m eta \u001b[36m0:00:00\u001b[0m\n",
            "\u001b[?25hRequirement already satisfied: lxml>=3.1.0 in /usr/local/lib/python3.10/dist-packages (from python-docx) (4.9.4)\n",
            "Requirement already satisfied: typing-extensions>=4.9.0 in /usr/local/lib/python3.10/dist-packages (from python-docx) (4.11.0)\n",
            "Installing collected packages: python-docx\n",
            "Successfully installed python-docx-1.1.2\n"
          ]
        }
      ]
    },
    {
      "cell_type": "code",
      "execution_count": 5,
      "metadata": {
        "colab": {
          "base_uri": "https://localhost:8080/"
        },
        "id": "YrmSfb9pJTMc",
        "outputId": "8a27c89d-5f52-442d-c743-23bc838822f3"
      },
      "outputs": [
        {
          "output_type": "execute_result",
          "data": {
            "text/plain": [
              "<docx.text.paragraph.Paragraph at 0x79a694193820>"
            ]
          },
          "metadata": {},
          "execution_count": 5
        }
      ],
      "source": [
        "from docx import Document\n",
        "\n",
        "# Create a new Document\n",
        "doc = Document()\n",
        "\n",
        "# Add Contact Information\n",
        "doc.add_heading('Bijon Krishna Bairagi', level=1)\n",
        "doc.add_paragraph('Address: Dhaka, 1212, Bangladesh')\n",
        "doc.add_paragraph('Phone: +8801911015506')\n",
        "doc.add_paragraph('Email: bijon.bairagi@gmail.com')\n",
        "doc.add_paragraph('LinkedIn: linkedin.com/in/bijonbairagi')\n",
        "doc.add_paragraph('GitHub: github.com/bijonbairagi')\n",
        "\n",
        "# Add Profile Summary\n",
        "doc.add_heading('Profile Summary', level=2)\n",
        "doc.add_paragraph(\n",
        "    \"Senior Software Engineer with over 10 years of experience in Android and PHP development. \"\n",
        "    \"Managed a team of 5 developers to deliver an OCR implementation for Android, improving data extraction efficiency by 30%. \"\n",
        "    \"Successfully integrated SOAP APIs for over 20 projects using C# and Java, enhancing system interoperability. \"\n",
        "    \"Developed and maintained REST APIs supporting a user base of over 50,000, achieving a 95% issue resolution rate. \"\n",
        "    \"Mentored junior developers, enhancing team productivity and skills.\"\n",
        ")\n",
        "\n",
        "# Add Work Experience\n",
        "doc.add_heading('Work Experience', level=2)\n",
        "\n",
        "# Placid Express\n",
        "doc.add_heading('Senior Software Engineer (Android, PHP)', level=3)\n",
        "doc.add_paragraph('Placid Express, Dhaka, Bangladesh\\nMay 2017 - Present')\n",
        "doc.add_paragraph(\n",
        "    \"- Developed OCR implementation using Android App, improving data extraction efficiency by 30%.\\n\"\n",
        "    \"- Integrated SOAP APIs using C# and Java for over 20 projects, enhancing system interoperability.\\n\"\n",
        "    \"- Created REST APIs and performed back-end development using PHP and SQL for 50,000+ users, ensuring effective data management.\\n\"\n",
        "    \"- Optimized code performance, resulting in a 20% increase in user satisfaction.\\n\"\n",
        "    \"- Resolved technical issues in collaboration with project managers, developers, and customers, maintaining a 95% issue resolution rate.\\n\"\n",
        "    \"- Mentored 5 junior developers, fostering a collaborative and high-performing team environment.\"\n",
        ")\n",
        "\n",
        "# Freelancer\n",
        "doc.add_heading('Full Stack Developer (Freelance)', level=3)\n",
        "doc.add_paragraph('Self-employed, Dhaka, Bangladesh\\nFebruary 2012 - Present')\n",
        "doc.add_paragraph(\n",
        "    \"- Developed REST servers and clients, enhancing system communication.\\n\"\n",
        "    \"- Created tax return software using Spring Java, streamlining financial processes.\\n\"\n",
        "    \"- Built e-commerce systems with Django, increasing online sales by 15%.\\n\"\n",
        "    \"- Developed Android applications and POS systems, improving business operations for multiple clients.\\n\"\n",
        "    \"- Managed over 10 customer calls per day, ensuring timely support and issue resolution.\"\n",
        ")\n",
        "\n",
        "# Foodpanda\n",
        "doc.add_heading('IT/Product Senior', level=3)\n",
        "doc.add_paragraph('Foodpanda Bangladesh, Dhaka, Bangladesh\\nOctober 2013 - April 2017')\n",
        "doc.add_paragraph(\n",
        "    \"- Conducted server-side scripting using PHP and MySQL.\\n\"\n",
        "    \"- Developed product documentation, improving onboarding efficiency by 20%.\\n\"\n",
        "    \"- Accelerated feature delivery through thorough testing and data-driven decision-making processes.\\n\"\n",
        "    \"- Managed over 20 customer calls per day, providing exceptional technical support.\"\n",
        ")\n",
        "\n",
        "# ClickBD\n",
        "doc.add_heading('Web Developer', level=3)\n",
        "doc.add_paragraph('ClickBD Limited\\nApril 2013 - September 2013')\n",
        "doc.add_paragraph(\n",
        "    \"- Planned and developed websites using HTML, CSS, JavaScript, and PHP.\\n\"\n",
        "    \"- Managed customer calls and provided front-end development support, improving client satisfaction.\"\n",
        ")\n",
        "\n",
        "# CodeArrow\n",
        "doc.add_heading('Software Engineer', level=3)\n",
        "doc.add_paragraph('CodeArrow Ltd., Dhaka, Bangladesh\\nApril 2012 - October 2012')\n",
        "doc.add_paragraph(\n",
        "    \"- Developed and maintained procurement software, optimizing purchasing processes.\\n\"\n",
        "    \"- Analyzed code to identify and resolve errors, improving software stability.\\n\"\n",
        "    \"- Ensured long-term software stability through scalable and maintainable code.\"\n",
        ")\n",
        "\n",
        "# System Automation Services\n",
        "doc.add_heading('PHP Developer', level=3)\n",
        "doc.add_paragraph('System Automation Services, Dhaka, Bangladesh\\nFebruary 2010 - March 2012')\n",
        "doc.add_paragraph(\n",
        "    \"- Maintained and updated existing websites, enhancing functionality and performance.\\n\"\n",
        "    \"- Conducted code analysis and optimization, reducing page load times by 25%.\\n\"\n",
        "    \"- Enhanced website functionality with PHP-based solutions, improving user experience.\"\n",
        ")\n",
        "\n",
        "# Add Skills\n",
        "doc.add_heading('Skills', level=2)\n",
        "doc.add_paragraph(\n",
        "    \"- Programming Languages: PHP, JavaScript, Java, Python, Kotlin\\n\"\n",
        "    \"- Frameworks: Android, Laravel, Django, AngularJS, VueJS\\n\"\n",
        "    \"- Tools: Git, MySQL, MongoDB, Node.js, REST API, Amazon Web Services\\n\"\n",
        "    \"- Languages: English (Fluent), Bangla (Native)\"\n",
        ")\n",
        "\n",
        "# Add Education\n",
        "doc.add_heading('Education', level=2)\n",
        "\n",
        "# Bachelor's Degree\n",
        "doc.add_heading('Bachelor of Science in Computer Science', level=3)\n",
        "doc.add_paragraph('Northern University Bangladesh, Dhaka, Bangladesh\\nApril 2010 - May 2021')\n",
        "\n",
        "# High School Diploma\n",
        "doc.add_heading('High School Diploma', level=3)\n",
        "doc.add_paragraph('City Polytechnic Institute, Khulna, Bangladesh\\nApril 2003 - May 2008')\n",
        "\n",
        "# No Degree\n",
        "doc.add_heading('No Degree: Physics, Chemistry, and Biology', level=3)\n",
        "doc.add_paragraph('Kulati High School, Khulna')"
      ]
    },
    {
      "cell_type": "code",
      "source": [
        "# prompt: download doc\n",
        "\n",
        "from google.colab import files\n",
        "\n",
        "# Save the document\n",
        "doc.save('Bijon_Krishna_Bairagi_Resume.docx')\n",
        "\n",
        "# Download the document\n",
        "files.download('Bijon_Krishna_Bairagi_Resume.docx')\n"
      ],
      "metadata": {
        "colab": {
          "base_uri": "https://localhost:8080/",
          "height": 17
        },
        "id": "CJBobzuZJ68G",
        "outputId": "7643e88c-9843-4d0c-c0ea-d0c6583dd13e"
      },
      "execution_count": 6,
      "outputs": [
        {
          "output_type": "display_data",
          "data": {
            "text/plain": [
              "<IPython.core.display.Javascript object>"
            ],
            "application/javascript": [
              "\n",
              "    async function download(id, filename, size) {\n",
              "      if (!google.colab.kernel.accessAllowed) {\n",
              "        return;\n",
              "      }\n",
              "      const div = document.createElement('div');\n",
              "      const label = document.createElement('label');\n",
              "      label.textContent = `Downloading \"${filename}\": `;\n",
              "      div.appendChild(label);\n",
              "      const progress = document.createElement('progress');\n",
              "      progress.max = size;\n",
              "      div.appendChild(progress);\n",
              "      document.body.appendChild(div);\n",
              "\n",
              "      const buffers = [];\n",
              "      let downloaded = 0;\n",
              "\n",
              "      const channel = await google.colab.kernel.comms.open(id);\n",
              "      // Send a message to notify the kernel that we're ready.\n",
              "      channel.send({})\n",
              "\n",
              "      for await (const message of channel.messages) {\n",
              "        // Send a message to notify the kernel that we're ready.\n",
              "        channel.send({})\n",
              "        if (message.buffers) {\n",
              "          for (const buffer of message.buffers) {\n",
              "            buffers.push(buffer);\n",
              "            downloaded += buffer.byteLength;\n",
              "            progress.value = downloaded;\n",
              "          }\n",
              "        }\n",
              "      }\n",
              "      const blob = new Blob(buffers, {type: 'application/binary'});\n",
              "      const a = document.createElement('a');\n",
              "      a.href = window.URL.createObjectURL(blob);\n",
              "      a.download = filename;\n",
              "      div.appendChild(a);\n",
              "      a.click();\n",
              "      div.remove();\n",
              "    }\n",
              "  "
            ]
          },
          "metadata": {}
        },
        {
          "output_type": "display_data",
          "data": {
            "text/plain": [
              "<IPython.core.display.Javascript object>"
            ],
            "application/javascript": [
              "download(\"download_75296942-ce6c-47c2-a255-5424a131f6fa\", \"Bijon_Krishna_Bairagi_Resume.docx\", 38343)"
            ]
          },
          "metadata": {}
        }
      ]
    }
  ]
}